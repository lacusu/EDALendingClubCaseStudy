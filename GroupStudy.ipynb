{
 "cells": [
  {
   "metadata": {
    "ExecuteTime": {
     "end_time": "2025-01-20T23:52:02.113970Z",
     "start_time": "2025-01-20T23:52:02.108724Z"
    }
   },
   "cell_type": "code",
   "source": "",
   "id": "9bad3bda-0278-45a4-a8f4-fb382d15bb35",
   "outputs": [],
   "execution_count": null
  },
  {
   "metadata": {
    "ExecuteTime": {
     "end_time": "2025-01-20T23:52:02.128605Z",
     "start_time": "2025-01-20T23:52:02.126985Z"
    }
   },
   "cell_type": "code",
   "source": "",
   "id": "9308d2a47e1b40e0",
   "outputs": [],
   "execution_count": null
  },
  {
   "metadata": {},
   "cell_type": "markdown",
   "source": "Import Libraries",
   "id": "26685ecdbd36c2e7"
  },
  {
   "metadata": {},
   "cell_type": "markdown",
   "source": "",
   "id": "27946d4dbf7e5487"
  },
  {
   "metadata": {
    "ExecuteTime": {
     "end_time": "2025-01-20T23:52:02.160408Z",
     "start_time": "2025-01-20T23:52:02.157316Z"
    }
   },
   "cell_type": "code",
   "source": [
    "import pandas as pd\n",
    "import numpy as np\n",
    "import matplotlib.pyplot as plt\n",
    "import seaborn as sns\n",
    "import warnings\n",
    "\n",
    "from pandas.core.algorithms import duplicated\n",
    "from xarray.util.generate_ops import inplace\n",
    "\n",
    "warnings.filterwarnings('ignore')"
   ],
   "id": "bd8d3f10e0f732c7",
   "outputs": [],
   "execution_count": 382
  },
  {
   "metadata": {},
   "cell_type": "markdown",
   "source": "Common Functions",
   "id": "a98d35bbcce2f251"
  },
  {
   "metadata": {
    "ExecuteTime": {
     "end_time": "2025-01-20T23:52:02.221607Z",
     "start_time": "2025-01-20T23:52:02.219313Z"
    }
   },
   "cell_type": "code",
   "source": [
    "# Drops the specified columns from the given DataFrame.\n",
    "def drop_columns(dataframe, columns):\n",
    "    \"\"\"\n",
    "    Drops the specified columns from the given DataFrame.\n",
    "\n",
    "    Args:\n",
    "        dataframe (pd.DataFrame): The DataFrame to drop columns from.\n",
    "        columns (list): List of column names to drop.\n",
    "\n",
    "    Returns:\n",
    "        pd.DataFrame: The modified DataFrame with specified columns dropped.\n",
    "    \"\"\"\n",
    "    dataframe.drop(columns=columns, inplace=True)\n",
    "    return dataframe"
   ],
   "id": "ae779d206fa2a1f1",
   "outputs": [],
   "execution_count": 383
  },
  {
   "metadata": {
    "ExecuteTime": {
     "end_time": "2025-01-20T23:52:02.326121Z",
     "start_time": "2025-01-20T23:52:02.323906Z"
    }
   },
   "cell_type": "code",
   "source": [
    "def create_boxplot(data, column, title=None):\n",
    "    \"\"\"\n",
    "    Plots a boxplot for a specific column in the dataframe.\n",
    "\n",
    "    Parameters:\n",
    "    - data: pd.DataFrame, the dataframe containing the data\n",
    "    - column: str, the name of the column to plot\n",
    "    - title: Optional[str], the title of the plot (default: None)\n",
    "\n",
    "    Returns:\n",
    "    - None\n",
    "    \"\"\"\n",
    "    sns.boxplot(data[column])\n",
    "\n",
    "    # Add title if provided, otherwise use a default one\n",
    "    if title:\n",
    "        plt.title(title)\n",
    "    else:\n",
    "        plt.title(f\"Boxplot of {column}\")\n",
    "\n",
    "    plt.show()"
   ],
   "id": "6d5173c6e4f063f0",
   "outputs": [],
   "execution_count": 384
  },
  {
   "metadata": {
    "ExecuteTime": {
     "end_time": "2025-01-20T23:52:02.419218Z",
     "start_time": "2025-01-20T23:52:02.416343Z"
    }
   },
   "cell_type": "code",
   "source": [
    "def get_distinct_values(data, column):\n",
    "    \"\"\"\n",
    "    Returns the distinct values of a specific column in the DataFrame.\n",
    "\n",
    "    Parameters:\n",
    "    - data: pd.DataFrame, the DataFrame containing the data\n",
    "    - column: str, the name of the column to retrieve distinct values from\n",
    "\n",
    "    Returns:\n",
    "    - A numpy array of distinct values\n",
    "    \"\"\"\n",
    "    return data[column].unique().tolist()"
   ],
   "id": "f2274a9ea0b1ca42",
   "outputs": [],
   "execution_count": 385
  },
  {
   "metadata": {
    "ExecuteTime": {
     "end_time": "2025-01-20T23:52:02.490096Z",
     "start_time": "2025-01-20T23:52:02.488005Z"
    }
   },
   "cell_type": "code",
   "source": [
    "def get_value_counts(data, column):\n",
    "    \"\"\"\n",
    "    Returns the counts of unique values in a specific column of the DataFrame.\n",
    "\n",
    "    Parameters:\n",
    "    - data: pd.DataFrame, the DataFrame containing the data\n",
    "    - column: str, the name of the column to retrieve value counts from\n",
    "\n",
    "    Returns:\n",
    "    - A pandas Series with unique values as the index and their counts as the values\n",
    "    \"\"\"\n",
    "    return data[column].value_counts()"
   ],
   "id": "1666db7f22a318ce",
   "outputs": [],
   "execution_count": 386
  },
  {
   "metadata": {},
   "cell_type": "markdown",
   "source": "Reading data from the provided load CSV file",
   "id": "448a93080136b245"
  },
  {
   "cell_type": "code",
   "id": "7363af22-3742-4fbe-8612-22700eeaaff3",
   "metadata": {
    "ExecuteTime": {
     "end_time": "2025-01-20T23:52:02.975667Z",
     "start_time": "2025-01-20T23:52:02.509673Z"
    }
   },
   "source": [
    "loan = pd.read_csv('loan.csv', low_memory=False)\n",
    "loan.info()"
   ],
   "outputs": [
    {
     "name": "stdout",
     "output_type": "stream",
     "text": [
      "<class 'pandas.core.frame.DataFrame'>\n",
      "RangeIndex: 39717 entries, 0 to 39716\n",
      "Columns: 111 entries, id to total_il_high_credit_limit\n",
      "dtypes: float64(74), int64(13), object(24)\n",
      "memory usage: 33.6+ MB\n"
     ]
    }
   ],
   "execution_count": 387
  },
  {
   "cell_type": "code",
   "id": "f8620191-16d8-4591-b1b3-520eda69639c",
   "metadata": {
    "ExecuteTime": {
     "end_time": "2025-01-20T23:52:03.023229Z",
     "start_time": "2025-01-20T23:52:03.008971Z"
    }
   },
   "source": "loan.head()",
   "outputs": [
    {
     "data": {
      "text/plain": [
       "        id  member_id  loan_amnt  funded_amnt  funded_amnt_inv        term  \\\n",
       "0  1077501    1296599       5000         5000           4975.0   36 months   \n",
       "1  1077430    1314167       2500         2500           2500.0   60 months   \n",
       "2  1077175    1313524       2400         2400           2400.0   36 months   \n",
       "3  1076863    1277178      10000        10000          10000.0   36 months   \n",
       "4  1075358    1311748       3000         3000           3000.0   60 months   \n",
       "\n",
       "  int_rate  installment grade sub_grade  ... num_tl_90g_dpd_24m  \\\n",
       "0   10.65%       162.87     B        B2  ...                NaN   \n",
       "1   15.27%        59.83     C        C4  ...                NaN   \n",
       "2   15.96%        84.33     C        C5  ...                NaN   \n",
       "3   13.49%       339.31     C        C1  ...                NaN   \n",
       "4   12.69%        67.79     B        B5  ...                NaN   \n",
       "\n",
       "  num_tl_op_past_12m pct_tl_nvr_dlq  percent_bc_gt_75 pub_rec_bankruptcies  \\\n",
       "0                NaN            NaN               NaN                  0.0   \n",
       "1                NaN            NaN               NaN                  0.0   \n",
       "2                NaN            NaN               NaN                  0.0   \n",
       "3                NaN            NaN               NaN                  0.0   \n",
       "4                NaN            NaN               NaN                  0.0   \n",
       "\n",
       "  tax_liens tot_hi_cred_lim total_bal_ex_mort total_bc_limit  \\\n",
       "0       0.0             NaN               NaN            NaN   \n",
       "1       0.0             NaN               NaN            NaN   \n",
       "2       0.0             NaN               NaN            NaN   \n",
       "3       0.0             NaN               NaN            NaN   \n",
       "4       0.0             NaN               NaN            NaN   \n",
       "\n",
       "  total_il_high_credit_limit  \n",
       "0                        NaN  \n",
       "1                        NaN  \n",
       "2                        NaN  \n",
       "3                        NaN  \n",
       "4                        NaN  \n",
       "\n",
       "[5 rows x 111 columns]"
      ],
      "text/html": [
       "<div>\n",
       "<style scoped>\n",
       "    .dataframe tbody tr th:only-of-type {\n",
       "        vertical-align: middle;\n",
       "    }\n",
       "\n",
       "    .dataframe tbody tr th {\n",
       "        vertical-align: top;\n",
       "    }\n",
       "\n",
       "    .dataframe thead th {\n",
       "        text-align: right;\n",
       "    }\n",
       "</style>\n",
       "<table border=\"1\" class=\"dataframe\">\n",
       "  <thead>\n",
       "    <tr style=\"text-align: right;\">\n",
       "      <th></th>\n",
       "      <th>id</th>\n",
       "      <th>member_id</th>\n",
       "      <th>loan_amnt</th>\n",
       "      <th>funded_amnt</th>\n",
       "      <th>funded_amnt_inv</th>\n",
       "      <th>term</th>\n",
       "      <th>int_rate</th>\n",
       "      <th>installment</th>\n",
       "      <th>grade</th>\n",
       "      <th>sub_grade</th>\n",
       "      <th>...</th>\n",
       "      <th>num_tl_90g_dpd_24m</th>\n",
       "      <th>num_tl_op_past_12m</th>\n",
       "      <th>pct_tl_nvr_dlq</th>\n",
       "      <th>percent_bc_gt_75</th>\n",
       "      <th>pub_rec_bankruptcies</th>\n",
       "      <th>tax_liens</th>\n",
       "      <th>tot_hi_cred_lim</th>\n",
       "      <th>total_bal_ex_mort</th>\n",
       "      <th>total_bc_limit</th>\n",
       "      <th>total_il_high_credit_limit</th>\n",
       "    </tr>\n",
       "  </thead>\n",
       "  <tbody>\n",
       "    <tr>\n",
       "      <th>0</th>\n",
       "      <td>1077501</td>\n",
       "      <td>1296599</td>\n",
       "      <td>5000</td>\n",
       "      <td>5000</td>\n",
       "      <td>4975.0</td>\n",
       "      <td>36 months</td>\n",
       "      <td>10.65%</td>\n",
       "      <td>162.87</td>\n",
       "      <td>B</td>\n",
       "      <td>B2</td>\n",
       "      <td>...</td>\n",
       "      <td>NaN</td>\n",
       "      <td>NaN</td>\n",
       "      <td>NaN</td>\n",
       "      <td>NaN</td>\n",
       "      <td>0.0</td>\n",
       "      <td>0.0</td>\n",
       "      <td>NaN</td>\n",
       "      <td>NaN</td>\n",
       "      <td>NaN</td>\n",
       "      <td>NaN</td>\n",
       "    </tr>\n",
       "    <tr>\n",
       "      <th>1</th>\n",
       "      <td>1077430</td>\n",
       "      <td>1314167</td>\n",
       "      <td>2500</td>\n",
       "      <td>2500</td>\n",
       "      <td>2500.0</td>\n",
       "      <td>60 months</td>\n",
       "      <td>15.27%</td>\n",
       "      <td>59.83</td>\n",
       "      <td>C</td>\n",
       "      <td>C4</td>\n",
       "      <td>...</td>\n",
       "      <td>NaN</td>\n",
       "      <td>NaN</td>\n",
       "      <td>NaN</td>\n",
       "      <td>NaN</td>\n",
       "      <td>0.0</td>\n",
       "      <td>0.0</td>\n",
       "      <td>NaN</td>\n",
       "      <td>NaN</td>\n",
       "      <td>NaN</td>\n",
       "      <td>NaN</td>\n",
       "    </tr>\n",
       "    <tr>\n",
       "      <th>2</th>\n",
       "      <td>1077175</td>\n",
       "      <td>1313524</td>\n",
       "      <td>2400</td>\n",
       "      <td>2400</td>\n",
       "      <td>2400.0</td>\n",
       "      <td>36 months</td>\n",
       "      <td>15.96%</td>\n",
       "      <td>84.33</td>\n",
       "      <td>C</td>\n",
       "      <td>C5</td>\n",
       "      <td>...</td>\n",
       "      <td>NaN</td>\n",
       "      <td>NaN</td>\n",
       "      <td>NaN</td>\n",
       "      <td>NaN</td>\n",
       "      <td>0.0</td>\n",
       "      <td>0.0</td>\n",
       "      <td>NaN</td>\n",
       "      <td>NaN</td>\n",
       "      <td>NaN</td>\n",
       "      <td>NaN</td>\n",
       "    </tr>\n",
       "    <tr>\n",
       "      <th>3</th>\n",
       "      <td>1076863</td>\n",
       "      <td>1277178</td>\n",
       "      <td>10000</td>\n",
       "      <td>10000</td>\n",
       "      <td>10000.0</td>\n",
       "      <td>36 months</td>\n",
       "      <td>13.49%</td>\n",
       "      <td>339.31</td>\n",
       "      <td>C</td>\n",
       "      <td>C1</td>\n",
       "      <td>...</td>\n",
       "      <td>NaN</td>\n",
       "      <td>NaN</td>\n",
       "      <td>NaN</td>\n",
       "      <td>NaN</td>\n",
       "      <td>0.0</td>\n",
       "      <td>0.0</td>\n",
       "      <td>NaN</td>\n",
       "      <td>NaN</td>\n",
       "      <td>NaN</td>\n",
       "      <td>NaN</td>\n",
       "    </tr>\n",
       "    <tr>\n",
       "      <th>4</th>\n",
       "      <td>1075358</td>\n",
       "      <td>1311748</td>\n",
       "      <td>3000</td>\n",
       "      <td>3000</td>\n",
       "      <td>3000.0</td>\n",
       "      <td>60 months</td>\n",
       "      <td>12.69%</td>\n",
       "      <td>67.79</td>\n",
       "      <td>B</td>\n",
       "      <td>B5</td>\n",
       "      <td>...</td>\n",
       "      <td>NaN</td>\n",
       "      <td>NaN</td>\n",
       "      <td>NaN</td>\n",
       "      <td>NaN</td>\n",
       "      <td>0.0</td>\n",
       "      <td>0.0</td>\n",
       "      <td>NaN</td>\n",
       "      <td>NaN</td>\n",
       "      <td>NaN</td>\n",
       "      <td>NaN</td>\n",
       "    </tr>\n",
       "  </tbody>\n",
       "</table>\n",
       "<p>5 rows × 111 columns</p>\n",
       "</div>"
      ]
     },
     "execution_count": 388,
     "metadata": {},
     "output_type": "execute_result"
    }
   ],
   "execution_count": 388
  },
  {
   "metadata": {},
   "cell_type": "markdown",
   "source": "Check whether null values and how much they are in the loan data",
   "id": "591fedb75c7eaa5a"
  },
  {
   "cell_type": "code",
   "id": "b2bbe974-511b-4104-84c0-047cf28d13ba",
   "metadata": {
    "ExecuteTime": {
     "end_time": "2025-01-20T23:52:03.110147Z",
     "start_time": "2025-01-20T23:52:03.073370Z"
    }
   },
   "source": "loan.isna().sum().sort_values(ascending=False)",
   "outputs": [
    {
     "data": {
      "text/plain": [
       "verification_status_joint    39717\n",
       "annual_inc_joint             39717\n",
       "mo_sin_old_rev_tl_op         39717\n",
       "mo_sin_old_il_acct           39717\n",
       "bc_util                      39717\n",
       "                             ...  \n",
       "delinq_amnt                      0\n",
       "policy_code                      0\n",
       "earliest_cr_line                 0\n",
       "delinq_2yrs                      0\n",
       "id                               0\n",
       "Length: 111, dtype: int64"
      ]
     },
     "execution_count": 389,
     "metadata": {},
     "output_type": "execute_result"
    }
   ],
   "execution_count": 389
  },
  {
   "metadata": {},
   "cell_type": "markdown",
   "source": "Count columns which having more than 50% of null value itself",
   "id": "9db5df15f27f8311"
  },
  {
   "cell_type": "code",
   "id": "ec3b586b-308a-477d-8fa3-d74a50fdea75",
   "metadata": {
    "ExecuteTime": {
     "end_time": "2025-01-20T23:52:03.251828Z",
     "start_time": "2025-01-20T23:52:03.208986Z"
    }
   },
   "source": [
    "# Count the number of columns with 50% null values\n",
    "missing_values_threshold = 50\n",
    "missing_values_threshold_percentage = missing_values_threshold/100\n",
    "total_null_columns = (loan.isnull().mean() > missing_values_threshold_percentage).sum()\n",
    "\n",
    "print(f\"Number of columns with more than {missing_values_threshold}% null values: {total_null_columns}/{loan.shape[1]}\")"
   ],
   "outputs": [
    {
     "name": "stdout",
     "output_type": "stream",
     "text": [
      "Number of columns with more than 50% null values: 57/111\n"
     ]
    }
   ],
   "execution_count": 390
  },
  {
   "metadata": {},
   "cell_type": "markdown",
   "source": "Decided to drop columns having more than 50% null column",
   "id": "6a05419b01a6811b"
  },
  {
   "cell_type": "code",
   "id": "7dc010c124cc6b40",
   "metadata": {
    "ExecuteTime": {
     "end_time": "2025-01-20T23:52:03.519958Z",
     "start_time": "2025-01-20T23:52:03.477433Z"
    }
   },
   "source": [
    "loan = loan.loc[:, loan.isnull().mean() < missing_values_threshold_percentage]\n",
    "loan.shape"
   ],
   "outputs": [
    {
     "data": {
      "text/plain": [
       "(39717, 54)"
      ]
     },
     "execution_count": 391,
     "metadata": {},
     "output_type": "execute_result"
    }
   ],
   "execution_count": 391
  },
  {
   "metadata": {},
   "cell_type": "markdown",
   "source": "Drop all unnecessary columns",
   "id": "cd3faf222e0564a4"
  },
  {
   "metadata": {
    "ExecuteTime": {
     "end_time": "2025-01-20T23:52:03.728917Z",
     "start_time": "2025-01-20T23:52:03.715901Z"
    }
   },
   "cell_type": "code",
   "source": [
    "# List of columns to drop\n",
    "unnecessary_columns_to_drop = [\n",
    "    # Unique Identifiers\n",
    "    'id', 'member_id',\n",
    "\n",
    "    # System Metadata\n",
    "    'url', 'desc', 'policy_code', 'application_type',\n",
    "\n",
    "    # Redundant Features\n",
    "    'funded_amnt', 'funded_amnt_inv', 'installment',\n",
    "\n",
    "    # Irrelevant\n",
    "    'total_pymnt', 'total_rec_prncp', 'total_rec_int', 'collection_recovery_fee','last_pymnt_d', 'last_pymnt_amnt', 'out_prncp', 'out_prncp_inv', 'last_credit_pull_d',\n",
    "   'emp_title',\n",
    "    'initial_list_status',\n",
    "    'pymnt_plan',\n",
    "    'earliest_cr_line',\n",
    "    'inq_last_6mths',\n",
    "    'open_acc',\n",
    "    'out_prncp',\n",
    "    'out_prncp_inv',\n",
    "     'pub_rec',\n",
    "     'recoveries',\n",
    "     'revol_bal',\n",
    "     'revol_util',\n",
    "     'title',\n",
    "     'total_acc',\n",
    "     'total_pymnt_inv',\n",
    "     'total_rec_late_fee',\n",
    "     'url',\n",
    "     'zip_code'\n",
    "]\n",
    "drop_columns(loan, unnecessary_columns_to_drop)\n",
    "loan.shape"
   ],
   "id": "5cb826021e46aeff",
   "outputs": [
    {
     "data": {
      "text/plain": [
       "(39717, 21)"
      ]
     },
     "execution_count": 392,
     "metadata": {},
     "output_type": "execute_result"
    }
   ],
   "execution_count": 392
  },
  {
   "metadata": {},
   "cell_type": "markdown",
   "source": "### **Check Duplicates**",
   "id": "1aaea7a5bf5f2723"
  },
  {
   "metadata": {
    "ExecuteTime": {
     "end_time": "2025-01-20T23:52:03.817337Z",
     "start_time": "2025-01-20T23:52:03.791076Z"
    }
   },
   "cell_type": "code",
   "source": [
    "duplicated_sum =  loan.duplicated().sum()\n",
    "print(f\"Number of duplicated rows: {duplicated_sum}\")"
   ],
   "id": "39f5b53c81ea0d92",
   "outputs": [
    {
     "name": "stdout",
     "output_type": "stream",
     "text": [
      "Number of duplicated rows: 0\n"
     ]
    }
   ],
   "execution_count": 393
  },
  {
   "metadata": {},
   "cell_type": "markdown",
   "source": "### **Check Single Unique Value Columns**",
   "id": "32363432ce10fd2a"
  },
  {
   "metadata": {
    "ExecuteTime": {
     "end_time": "2025-01-20T23:52:03.867305Z",
     "start_time": "2025-01-20T23:52:03.849099Z"
    }
   },
   "cell_type": "code",
   "source": [
    "# Check for single unique value columns\n",
    "single_unique_cols = loan.columns[loan.nunique() == 1]\n",
    "\n",
    "# Print the names of columns with a single unique value\n",
    "print(f\"Columns with a single unique value: {single_unique_cols.shape[0]}\")\n"
   ],
   "id": "c2a0db6166cdb74a",
   "outputs": [
    {
     "name": "stdout",
     "output_type": "stream",
     "text": [
      "Columns with a single unique value: 5\n"
     ]
    }
   ],
   "execution_count": 394
  },
  {
   "metadata": {},
   "cell_type": "markdown",
   "source": "### **Drop Single Unique Value Columns**",
   "id": "999e179d914809"
  },
  {
   "metadata": {
    "ExecuteTime": {
     "end_time": "2025-01-20T23:52:03.919400Z",
     "start_time": "2025-01-20T23:52:03.906319Z"
    }
   },
   "cell_type": "code",
   "source": [
    "drop_columns(loan, single_unique_cols)\n",
    "loan.shape"
   ],
   "id": "7d7d2285732d9109",
   "outputs": [
    {
     "data": {
      "text/plain": [
       "(39717, 16)"
      ]
     },
     "execution_count": 395,
     "metadata": {},
     "output_type": "execute_result"
    }
   ],
   "execution_count": 395
  },
  {
   "metadata": {
    "ExecuteTime": {
     "end_time": "2025-01-20T23:52:04.018178Z",
     "start_time": "2025-01-20T23:52:04.006771Z"
    }
   },
   "cell_type": "code",
   "source": "loan.head()",
   "id": "5a6c6560d0cdc9b",
   "outputs": [
    {
     "data": {
      "text/plain": [
       "   loan_amnt        term int_rate grade sub_grade emp_length home_ownership  \\\n",
       "0       5000   36 months   10.65%     B        B2  10+ years           RENT   \n",
       "1       2500   60 months   15.27%     C        C4   < 1 year           RENT   \n",
       "2       2400   36 months   15.96%     C        C5  10+ years           RENT   \n",
       "3      10000   36 months   13.49%     C        C1  10+ years           RENT   \n",
       "4       3000   60 months   12.69%     B        B5     1 year           RENT   \n",
       "\n",
       "   annual_inc verification_status issue_d  loan_status         purpose  \\\n",
       "0     24000.0            Verified  Dec-11   Fully Paid     credit_card   \n",
       "1     30000.0     Source Verified  Dec-11  Charged Off             car   \n",
       "2     12252.0        Not Verified  Dec-11   Fully Paid  small_business   \n",
       "3     49200.0     Source Verified  Dec-11   Fully Paid           other   \n",
       "4     80000.0     Source Verified  Dec-11      Current           other   \n",
       "\n",
       "  addr_state    dti  delinq_2yrs  pub_rec_bankruptcies  \n",
       "0         AZ  27.65            0                   0.0  \n",
       "1         GA   1.00            0                   0.0  \n",
       "2         IL   8.72            0                   0.0  \n",
       "3         CA  20.00            0                   0.0  \n",
       "4         OR  17.94            0                   0.0  "
      ],
      "text/html": [
       "<div>\n",
       "<style scoped>\n",
       "    .dataframe tbody tr th:only-of-type {\n",
       "        vertical-align: middle;\n",
       "    }\n",
       "\n",
       "    .dataframe tbody tr th {\n",
       "        vertical-align: top;\n",
       "    }\n",
       "\n",
       "    .dataframe thead th {\n",
       "        text-align: right;\n",
       "    }\n",
       "</style>\n",
       "<table border=\"1\" class=\"dataframe\">\n",
       "  <thead>\n",
       "    <tr style=\"text-align: right;\">\n",
       "      <th></th>\n",
       "      <th>loan_amnt</th>\n",
       "      <th>term</th>\n",
       "      <th>int_rate</th>\n",
       "      <th>grade</th>\n",
       "      <th>sub_grade</th>\n",
       "      <th>emp_length</th>\n",
       "      <th>home_ownership</th>\n",
       "      <th>annual_inc</th>\n",
       "      <th>verification_status</th>\n",
       "      <th>issue_d</th>\n",
       "      <th>loan_status</th>\n",
       "      <th>purpose</th>\n",
       "      <th>addr_state</th>\n",
       "      <th>dti</th>\n",
       "      <th>delinq_2yrs</th>\n",
       "      <th>pub_rec_bankruptcies</th>\n",
       "    </tr>\n",
       "  </thead>\n",
       "  <tbody>\n",
       "    <tr>\n",
       "      <th>0</th>\n",
       "      <td>5000</td>\n",
       "      <td>36 months</td>\n",
       "      <td>10.65%</td>\n",
       "      <td>B</td>\n",
       "      <td>B2</td>\n",
       "      <td>10+ years</td>\n",
       "      <td>RENT</td>\n",
       "      <td>24000.0</td>\n",
       "      <td>Verified</td>\n",
       "      <td>Dec-11</td>\n",
       "      <td>Fully Paid</td>\n",
       "      <td>credit_card</td>\n",
       "      <td>AZ</td>\n",
       "      <td>27.65</td>\n",
       "      <td>0</td>\n",
       "      <td>0.0</td>\n",
       "    </tr>\n",
       "    <tr>\n",
       "      <th>1</th>\n",
       "      <td>2500</td>\n",
       "      <td>60 months</td>\n",
       "      <td>15.27%</td>\n",
       "      <td>C</td>\n",
       "      <td>C4</td>\n",
       "      <td>&lt; 1 year</td>\n",
       "      <td>RENT</td>\n",
       "      <td>30000.0</td>\n",
       "      <td>Source Verified</td>\n",
       "      <td>Dec-11</td>\n",
       "      <td>Charged Off</td>\n",
       "      <td>car</td>\n",
       "      <td>GA</td>\n",
       "      <td>1.00</td>\n",
       "      <td>0</td>\n",
       "      <td>0.0</td>\n",
       "    </tr>\n",
       "    <tr>\n",
       "      <th>2</th>\n",
       "      <td>2400</td>\n",
       "      <td>36 months</td>\n",
       "      <td>15.96%</td>\n",
       "      <td>C</td>\n",
       "      <td>C5</td>\n",
       "      <td>10+ years</td>\n",
       "      <td>RENT</td>\n",
       "      <td>12252.0</td>\n",
       "      <td>Not Verified</td>\n",
       "      <td>Dec-11</td>\n",
       "      <td>Fully Paid</td>\n",
       "      <td>small_business</td>\n",
       "      <td>IL</td>\n",
       "      <td>8.72</td>\n",
       "      <td>0</td>\n",
       "      <td>0.0</td>\n",
       "    </tr>\n",
       "    <tr>\n",
       "      <th>3</th>\n",
       "      <td>10000</td>\n",
       "      <td>36 months</td>\n",
       "      <td>13.49%</td>\n",
       "      <td>C</td>\n",
       "      <td>C1</td>\n",
       "      <td>10+ years</td>\n",
       "      <td>RENT</td>\n",
       "      <td>49200.0</td>\n",
       "      <td>Source Verified</td>\n",
       "      <td>Dec-11</td>\n",
       "      <td>Fully Paid</td>\n",
       "      <td>other</td>\n",
       "      <td>CA</td>\n",
       "      <td>20.00</td>\n",
       "      <td>0</td>\n",
       "      <td>0.0</td>\n",
       "    </tr>\n",
       "    <tr>\n",
       "      <th>4</th>\n",
       "      <td>3000</td>\n",
       "      <td>60 months</td>\n",
       "      <td>12.69%</td>\n",
       "      <td>B</td>\n",
       "      <td>B5</td>\n",
       "      <td>1 year</td>\n",
       "      <td>RENT</td>\n",
       "      <td>80000.0</td>\n",
       "      <td>Source Verified</td>\n",
       "      <td>Dec-11</td>\n",
       "      <td>Current</td>\n",
       "      <td>other</td>\n",
       "      <td>OR</td>\n",
       "      <td>17.94</td>\n",
       "      <td>0</td>\n",
       "      <td>0.0</td>\n",
       "    </tr>\n",
       "  </tbody>\n",
       "</table>\n",
       "</div>"
      ]
     },
     "execution_count": 396,
     "metadata": {},
     "output_type": "execute_result"
    }
   ],
   "execution_count": 396
  },
  {
   "metadata": {},
   "cell_type": "markdown",
   "source": "Drop loan status as 'Current'",
   "id": "732a48181c3517f2"
  },
  {
   "metadata": {
    "ExecuteTime": {
     "end_time": "2025-01-20T23:52:04.102016Z",
     "start_time": "2025-01-20T23:52:04.083293Z"
    }
   },
   "cell_type": "code",
   "source": [
    "# Drop rows where loan_status is 'Current'\n",
    "loan.drop(loan[loan['loan_status'].str.strip().str.lower() == 'current'].index, inplace=True)\n",
    "loan.shape"
   ],
   "id": "9124c26950769578",
   "outputs": [
    {
     "data": {
      "text/plain": [
       "(38577, 16)"
      ]
     },
     "execution_count": 397,
     "metadata": {},
     "output_type": "execute_result"
    }
   ],
   "execution_count": 397
  },
  {
   "metadata": {},
   "cell_type": "markdown",
   "source": "Check datatype",
   "id": "9831723598584082"
  },
  {
   "metadata": {
    "ExecuteTime": {
     "end_time": "2025-01-20T23:52:04.210250Z",
     "start_time": "2025-01-20T23:52:04.205224Z"
    }
   },
   "cell_type": "code",
   "source": "loan.dtypes",
   "id": "da92061247d463ff",
   "outputs": [
    {
     "data": {
      "text/plain": [
       "loan_amnt                 int64\n",
       "term                     object\n",
       "int_rate                 object\n",
       "grade                    object\n",
       "sub_grade                object\n",
       "emp_length               object\n",
       "home_ownership           object\n",
       "annual_inc              float64\n",
       "verification_status      object\n",
       "issue_d                  object\n",
       "loan_status              object\n",
       "purpose                  object\n",
       "addr_state               object\n",
       "dti                     float64\n",
       "delinq_2yrs               int64\n",
       "pub_rec_bankruptcies    float64\n",
       "dtype: object"
      ]
     },
     "execution_count": 398,
     "metadata": {},
     "output_type": "execute_result"
    }
   ],
   "execution_count": 398
  },
  {
   "metadata": {},
   "cell_type": "markdown",
   "source": "Convert data type",
   "id": "357e3a293a9e9759"
  },
  {
   "metadata": {
    "ExecuteTime": {
     "end_time": "2025-01-20T23:52:04.302842Z",
     "start_time": "2025-01-20T23:52:04.291171Z"
    }
   },
   "cell_type": "code",
   "source": [
    "loan = loan.astype({\n",
    "    'loan_amnt' : 'float'\n",
    "})"
   ],
   "id": "52f1cf6a06d2c6e4",
   "outputs": [],
   "execution_count": 399
  },
  {
   "metadata": {},
   "cell_type": "markdown",
   "source": "Convert data",
   "id": "3a0e82ce9be70b7"
  },
  {
   "metadata": {
    "ExecuteTime": {
     "end_time": "2025-01-20T23:52:04.494576Z",
     "start_time": "2025-01-20T23:52:04.475105Z"
    }
   },
   "cell_type": "code",
   "source": [
    "# Convert term value  to number only (int)\n",
    "loan['term'] = loan['term'].apply(lambda x: int(x.replace('months', '').strip()))"
   ],
   "id": "1ff4ebe202b74cbf",
   "outputs": [],
   "execution_count": 400
  },
  {
   "metadata": {
    "ExecuteTime": {
     "end_time": "2025-01-20T23:52:04.541045Z",
     "start_time": "2025-01-20T23:52:04.526553Z"
    }
   },
   "cell_type": "code",
   "source": [
    "# Convert term value  to number only (float)\n",
    "loan['int_rate'] = loan['int_rate'].apply(lambda x: float(x.replace('%', '').strip()))"
   ],
   "id": "9d6d59c36ac7ca47",
   "outputs": [],
   "execution_count": 401
  },
  {
   "metadata": {
    "ExecuteTime": {
     "end_time": "2025-01-20T23:52:04.708057Z",
     "start_time": "2025-01-20T23:52:04.583390Z"
    }
   },
   "cell_type": "code",
   "source": [
    "# Convert and extract month and year\n",
    "loan['issue_d'] = pd.to_datetime(loan['issue_d'], format='%b-%y')\n",
    "loan['issue_month'] = loan['issue_d'].dt.strftime('%B')\n",
    "loan['issue_year'] = loan['issue_d'].dt.year\n",
    "drop_columns(loan, ['issue_d'])"
   ],
   "id": "377532fbec7535f9",
   "outputs": [
    {
     "data": {
      "text/plain": [
       "       loan_amnt  term  int_rate grade sub_grade emp_length home_ownership  \\\n",
       "0         5000.0    36     10.65     B        B2  10+ years           RENT   \n",
       "1         2500.0    60     15.27     C        C4   < 1 year           RENT   \n",
       "2         2400.0    36     15.96     C        C5  10+ years           RENT   \n",
       "3        10000.0    36     13.49     C        C1  10+ years           RENT   \n",
       "5         5000.0    36      7.90     A        A4    3 years           RENT   \n",
       "...          ...   ...       ...   ...       ...        ...            ...   \n",
       "39712     2500.0    36      8.07     A        A4    4 years       MORTGAGE   \n",
       "39713     8500.0    36     10.28     C        C1    3 years           RENT   \n",
       "39714     5000.0    36      8.07     A        A4   < 1 year       MORTGAGE   \n",
       "39715     5000.0    36      7.43     A        A2   < 1 year       MORTGAGE   \n",
       "39716     7500.0    36     13.75     E        E2   < 1 year            OWN   \n",
       "\n",
       "       annual_inc verification_status  loan_status             purpose  \\\n",
       "0         24000.0            Verified   Fully Paid         credit_card   \n",
       "1         30000.0     Source Verified  Charged Off                 car   \n",
       "2         12252.0        Not Verified   Fully Paid      small_business   \n",
       "3         49200.0     Source Verified   Fully Paid               other   \n",
       "5         36000.0     Source Verified   Fully Paid             wedding   \n",
       "...           ...                 ...          ...                 ...   \n",
       "39712    110000.0        Not Verified   Fully Paid    home_improvement   \n",
       "39713     18000.0        Not Verified   Fully Paid         credit_card   \n",
       "39714    100000.0        Not Verified   Fully Paid  debt_consolidation   \n",
       "39715    200000.0        Not Verified   Fully Paid               other   \n",
       "39716     22000.0        Not Verified   Fully Paid  debt_consolidation   \n",
       "\n",
       "      addr_state    dti  delinq_2yrs  pub_rec_bankruptcies issue_month  \\\n",
       "0             AZ  27.65            0                   0.0    December   \n",
       "1             GA   1.00            0                   0.0    December   \n",
       "2             IL   8.72            0                   0.0    December   \n",
       "3             CA  20.00            0                   0.0    December   \n",
       "5             AZ  11.20            0                   0.0    December   \n",
       "...          ...    ...          ...                   ...         ...   \n",
       "39712         CO  11.33            0                   NaN        July   \n",
       "39713         NC   6.40            1                   NaN        July   \n",
       "39714         MA   2.30            0                   NaN        July   \n",
       "39715         MD   3.72            0                   NaN        July   \n",
       "39716         MA  14.29            1                   NaN        June   \n",
       "\n",
       "       issue_year  \n",
       "0            2011  \n",
       "1            2011  \n",
       "2            2011  \n",
       "3            2011  \n",
       "5            2011  \n",
       "...           ...  \n",
       "39712        2007  \n",
       "39713        2007  \n",
       "39714        2007  \n",
       "39715        2007  \n",
       "39716        2007  \n",
       "\n",
       "[38577 rows x 17 columns]"
      ],
      "text/html": [
       "<div>\n",
       "<style scoped>\n",
       "    .dataframe tbody tr th:only-of-type {\n",
       "        vertical-align: middle;\n",
       "    }\n",
       "\n",
       "    .dataframe tbody tr th {\n",
       "        vertical-align: top;\n",
       "    }\n",
       "\n",
       "    .dataframe thead th {\n",
       "        text-align: right;\n",
       "    }\n",
       "</style>\n",
       "<table border=\"1\" class=\"dataframe\">\n",
       "  <thead>\n",
       "    <tr style=\"text-align: right;\">\n",
       "      <th></th>\n",
       "      <th>loan_amnt</th>\n",
       "      <th>term</th>\n",
       "      <th>int_rate</th>\n",
       "      <th>grade</th>\n",
       "      <th>sub_grade</th>\n",
       "      <th>emp_length</th>\n",
       "      <th>home_ownership</th>\n",
       "      <th>annual_inc</th>\n",
       "      <th>verification_status</th>\n",
       "      <th>loan_status</th>\n",
       "      <th>purpose</th>\n",
       "      <th>addr_state</th>\n",
       "      <th>dti</th>\n",
       "      <th>delinq_2yrs</th>\n",
       "      <th>pub_rec_bankruptcies</th>\n",
       "      <th>issue_month</th>\n",
       "      <th>issue_year</th>\n",
       "    </tr>\n",
       "  </thead>\n",
       "  <tbody>\n",
       "    <tr>\n",
       "      <th>0</th>\n",
       "      <td>5000.0</td>\n",
       "      <td>36</td>\n",
       "      <td>10.65</td>\n",
       "      <td>B</td>\n",
       "      <td>B2</td>\n",
       "      <td>10+ years</td>\n",
       "      <td>RENT</td>\n",
       "      <td>24000.0</td>\n",
       "      <td>Verified</td>\n",
       "      <td>Fully Paid</td>\n",
       "      <td>credit_card</td>\n",
       "      <td>AZ</td>\n",
       "      <td>27.65</td>\n",
       "      <td>0</td>\n",
       "      <td>0.0</td>\n",
       "      <td>December</td>\n",
       "      <td>2011</td>\n",
       "    </tr>\n",
       "    <tr>\n",
       "      <th>1</th>\n",
       "      <td>2500.0</td>\n",
       "      <td>60</td>\n",
       "      <td>15.27</td>\n",
       "      <td>C</td>\n",
       "      <td>C4</td>\n",
       "      <td>&lt; 1 year</td>\n",
       "      <td>RENT</td>\n",
       "      <td>30000.0</td>\n",
       "      <td>Source Verified</td>\n",
       "      <td>Charged Off</td>\n",
       "      <td>car</td>\n",
       "      <td>GA</td>\n",
       "      <td>1.00</td>\n",
       "      <td>0</td>\n",
       "      <td>0.0</td>\n",
       "      <td>December</td>\n",
       "      <td>2011</td>\n",
       "    </tr>\n",
       "    <tr>\n",
       "      <th>2</th>\n",
       "      <td>2400.0</td>\n",
       "      <td>36</td>\n",
       "      <td>15.96</td>\n",
       "      <td>C</td>\n",
       "      <td>C5</td>\n",
       "      <td>10+ years</td>\n",
       "      <td>RENT</td>\n",
       "      <td>12252.0</td>\n",
       "      <td>Not Verified</td>\n",
       "      <td>Fully Paid</td>\n",
       "      <td>small_business</td>\n",
       "      <td>IL</td>\n",
       "      <td>8.72</td>\n",
       "      <td>0</td>\n",
       "      <td>0.0</td>\n",
       "      <td>December</td>\n",
       "      <td>2011</td>\n",
       "    </tr>\n",
       "    <tr>\n",
       "      <th>3</th>\n",
       "      <td>10000.0</td>\n",
       "      <td>36</td>\n",
       "      <td>13.49</td>\n",
       "      <td>C</td>\n",
       "      <td>C1</td>\n",
       "      <td>10+ years</td>\n",
       "      <td>RENT</td>\n",
       "      <td>49200.0</td>\n",
       "      <td>Source Verified</td>\n",
       "      <td>Fully Paid</td>\n",
       "      <td>other</td>\n",
       "      <td>CA</td>\n",
       "      <td>20.00</td>\n",
       "      <td>0</td>\n",
       "      <td>0.0</td>\n",
       "      <td>December</td>\n",
       "      <td>2011</td>\n",
       "    </tr>\n",
       "    <tr>\n",
       "      <th>5</th>\n",
       "      <td>5000.0</td>\n",
       "      <td>36</td>\n",
       "      <td>7.90</td>\n",
       "      <td>A</td>\n",
       "      <td>A4</td>\n",
       "      <td>3 years</td>\n",
       "      <td>RENT</td>\n",
       "      <td>36000.0</td>\n",
       "      <td>Source Verified</td>\n",
       "      <td>Fully Paid</td>\n",
       "      <td>wedding</td>\n",
       "      <td>AZ</td>\n",
       "      <td>11.20</td>\n",
       "      <td>0</td>\n",
       "      <td>0.0</td>\n",
       "      <td>December</td>\n",
       "      <td>2011</td>\n",
       "    </tr>\n",
       "    <tr>\n",
       "      <th>...</th>\n",
       "      <td>...</td>\n",
       "      <td>...</td>\n",
       "      <td>...</td>\n",
       "      <td>...</td>\n",
       "      <td>...</td>\n",
       "      <td>...</td>\n",
       "      <td>...</td>\n",
       "      <td>...</td>\n",
       "      <td>...</td>\n",
       "      <td>...</td>\n",
       "      <td>...</td>\n",
       "      <td>...</td>\n",
       "      <td>...</td>\n",
       "      <td>...</td>\n",
       "      <td>...</td>\n",
       "      <td>...</td>\n",
       "      <td>...</td>\n",
       "    </tr>\n",
       "    <tr>\n",
       "      <th>39712</th>\n",
       "      <td>2500.0</td>\n",
       "      <td>36</td>\n",
       "      <td>8.07</td>\n",
       "      <td>A</td>\n",
       "      <td>A4</td>\n",
       "      <td>4 years</td>\n",
       "      <td>MORTGAGE</td>\n",
       "      <td>110000.0</td>\n",
       "      <td>Not Verified</td>\n",
       "      <td>Fully Paid</td>\n",
       "      <td>home_improvement</td>\n",
       "      <td>CO</td>\n",
       "      <td>11.33</td>\n",
       "      <td>0</td>\n",
       "      <td>NaN</td>\n",
       "      <td>July</td>\n",
       "      <td>2007</td>\n",
       "    </tr>\n",
       "    <tr>\n",
       "      <th>39713</th>\n",
       "      <td>8500.0</td>\n",
       "      <td>36</td>\n",
       "      <td>10.28</td>\n",
       "      <td>C</td>\n",
       "      <td>C1</td>\n",
       "      <td>3 years</td>\n",
       "      <td>RENT</td>\n",
       "      <td>18000.0</td>\n",
       "      <td>Not Verified</td>\n",
       "      <td>Fully Paid</td>\n",
       "      <td>credit_card</td>\n",
       "      <td>NC</td>\n",
       "      <td>6.40</td>\n",
       "      <td>1</td>\n",
       "      <td>NaN</td>\n",
       "      <td>July</td>\n",
       "      <td>2007</td>\n",
       "    </tr>\n",
       "    <tr>\n",
       "      <th>39714</th>\n",
       "      <td>5000.0</td>\n",
       "      <td>36</td>\n",
       "      <td>8.07</td>\n",
       "      <td>A</td>\n",
       "      <td>A4</td>\n",
       "      <td>&lt; 1 year</td>\n",
       "      <td>MORTGAGE</td>\n",
       "      <td>100000.0</td>\n",
       "      <td>Not Verified</td>\n",
       "      <td>Fully Paid</td>\n",
       "      <td>debt_consolidation</td>\n",
       "      <td>MA</td>\n",
       "      <td>2.30</td>\n",
       "      <td>0</td>\n",
       "      <td>NaN</td>\n",
       "      <td>July</td>\n",
       "      <td>2007</td>\n",
       "    </tr>\n",
       "    <tr>\n",
       "      <th>39715</th>\n",
       "      <td>5000.0</td>\n",
       "      <td>36</td>\n",
       "      <td>7.43</td>\n",
       "      <td>A</td>\n",
       "      <td>A2</td>\n",
       "      <td>&lt; 1 year</td>\n",
       "      <td>MORTGAGE</td>\n",
       "      <td>200000.0</td>\n",
       "      <td>Not Verified</td>\n",
       "      <td>Fully Paid</td>\n",
       "      <td>other</td>\n",
       "      <td>MD</td>\n",
       "      <td>3.72</td>\n",
       "      <td>0</td>\n",
       "      <td>NaN</td>\n",
       "      <td>July</td>\n",
       "      <td>2007</td>\n",
       "    </tr>\n",
       "    <tr>\n",
       "      <th>39716</th>\n",
       "      <td>7500.0</td>\n",
       "      <td>36</td>\n",
       "      <td>13.75</td>\n",
       "      <td>E</td>\n",
       "      <td>E2</td>\n",
       "      <td>&lt; 1 year</td>\n",
       "      <td>OWN</td>\n",
       "      <td>22000.0</td>\n",
       "      <td>Not Verified</td>\n",
       "      <td>Fully Paid</td>\n",
       "      <td>debt_consolidation</td>\n",
       "      <td>MA</td>\n",
       "      <td>14.29</td>\n",
       "      <td>1</td>\n",
       "      <td>NaN</td>\n",
       "      <td>June</td>\n",
       "      <td>2007</td>\n",
       "    </tr>\n",
       "  </tbody>\n",
       "</table>\n",
       "<p>38577 rows × 17 columns</p>\n",
       "</div>"
      ]
     },
     "execution_count": 402,
     "metadata": {},
     "output_type": "execute_result"
    }
   ],
   "execution_count": 402
  },
  {
   "metadata": {
    "ExecuteTime": {
     "end_time": "2025-01-20T23:52:04.816101Z",
     "start_time": "2025-01-20T23:52:04.760620Z"
    }
   },
   "cell_type": "code",
   "source": [
    "# Convert float values to 2 decimals.\n",
    "for col in ['loan_amnt', 'int_rate', 'annual_inc', 'dti']:\n",
    "    loan[col] = loan[col].apply(lambda x: round(x, 2))"
   ],
   "id": "1f1fa22c1de67734",
   "outputs": [],
   "execution_count": 403
  },
  {
   "metadata": {
    "ExecuteTime": {
     "end_time": "2025-01-20T23:52:04.860010Z",
     "start_time": "2025-01-20T23:52:04.855410Z"
    }
   },
   "cell_type": "code",
   "source": [
    "distinct_values = loan['home_ownership'].unique()\n",
    "\n",
    "print(f\"Distinct values in the column: {distinct_values}\")"
   ],
   "id": "e85513ba43d6e2d8",
   "outputs": [
    {
     "name": "stdout",
     "output_type": "stream",
     "text": [
      "Distinct values in the column: ['RENT' 'OWN' 'MORTGAGE' 'OTHER' 'NONE']\n"
     ]
    }
   ],
   "execution_count": 404
  },
  {
   "metadata": {},
   "cell_type": "markdown",
   "source": "Remove outliers",
   "id": "1bf909724e24c70b"
  },
  {
   "metadata": {
    "ExecuteTime": {
     "end_time": "2025-01-20T23:52:05.000462Z",
     "start_time": "2025-01-20T23:52:04.893028Z"
    }
   },
   "cell_type": "code",
   "source": [
    "# Visualizing annual income\n",
    "create_boxplot(\n",
    "    loan,\n",
    "    'annual_inc',\n",
    "    'Annual Income')"
   ],
   "id": "f77c00a52b69ee0c",
   "outputs": [
    {
     "data": {
      "text/plain": [
       "<Figure size 640x480 with 1 Axes>"
      ],
      "image/png": "[encoded data removed]"
     },
     "metadata": {},
     "output_type": "display_data"
    }
   ],
   "execution_count": 405
  },
  {
   "metadata": {
    "ExecuteTime": {
     "end_time": "2025-01-20T23:52:05.259765Z",
     "start_time": "2025-01-20T23:52:05.025143Z"
    }
   },
   "cell_type": "code",
   "source": [
    "create_boxplot(\n",
    "    loan,\n",
    "    'int_rate',\n",
    "    'Interest Rate')"
   ],
   "id": "4966b8898417649a",
   "outputs": [
    {
     "data": {
      "text/plain": [
       "<Figure size 640x480 with 1 Axes>"
      ],
      "image/png": "[encoded data removed]"
     },
     "metadata": {},
     "output_type": "display_data"
    }
   ],
   "execution_count": 406
  },
  {
   "metadata": {
    "ExecuteTime": {
     "end_time": "2025-01-20T23:52:05.375898Z",
     "start_time": "2025-01-20T23:52:05.280067Z"
    }
   },
   "cell_type": "code",
   "source": [
    "create_boxplot(\n",
    "    loan,\n",
    "    'dti',\n",
    "    'Debt-to-Income Ratio')"
   ],
   "id": "a2cbd67947d6ea9",
   "outputs": [
    {
     "data": {
      "text/plain": [
       "<Figure size 640x480 with 1 Axes>"
      ],
      "image/png": "[encoded data removed]"
     },
     "metadata": {},
     "output_type": "display_data"
    }
   ],
   "execution_count": 407
  },
  {
   "metadata": {},
   "cell_type": "markdown",
   "source": "Can see that annual income having outliers. Outliers tend to lie far from the median. Use **Interquartile Range (IQR)** for skewed data.",
   "id": "936d07f026f4c835"
  },
  {
   "metadata": {
    "ExecuteTime": {
     "end_time": "2025-01-20T23:52:05.491841Z",
     "start_time": "2025-01-20T23:52:05.385531Z"
    }
   },
   "cell_type": "code",
   "source": [
    "# Calculate inter quartile\n",
    "annual_income = loan['annual_inc']\n",
    "Q1 = annual_income.quantile(0.25)\n",
    "Q3 = annual_income.quantile(0.75)\n",
    "IQR = Q3 - Q1\n",
    "\n",
    "lower_bound = Q1 - 1.5 * IQR\n",
    "upper_bound = Q3 + 1.5 * IQR\n",
    "\n",
    "\n",
    " # Handle Outliers\n",
    "loan['annual_inc'] = annual_income.clip(lower=lower_bound, upper=upper_bound)\n",
    "# Visualize Outliers (Boxplot)\n",
    "create_boxplot(\n",
    "    loan,\n",
    "    'annual_inc',\n",
    "    'Annual Income')\n",
    "\n"
   ],
   "id": "c94efd82d7b1e008",
   "outputs": [
    {
     "data": {
      "text/plain": [
       "<Figure size 640x480 with 1 Axes>"
      ],
      "image/png": "[encoded data removed]"
     },
     "metadata": {},
     "output_type": "display_data"
    }
   ],
   "execution_count": 408
  },
  {
   "metadata": {},
   "cell_type": "markdown",
   "source": "Handle data for verification_status column",
   "id": "87059411566357fd"
  },
  {
   "metadata": {
    "ExecuteTime": {
     "end_time": "2025-01-20T23:52:05.511486Z",
     "start_time": "2025-01-20T23:52:05.505482Z"
    }
   },
   "cell_type": "code",
   "source": [
    "# Get distinct values of a column\n",
    "get_distinct_values(loan, 'verification_status')\n"
   ],
   "id": "64a1f1f16e246b4",
   "outputs": [
    {
     "data": {
      "text/plain": [
       "['Verified', 'Source Verified', 'Not Verified']"
      ]
     },
     "execution_count": 409,
     "metadata": {},
     "output_type": "execute_result"
    }
   ],
   "execution_count": 409
  },
  {
   "metadata": {},
   "cell_type": "markdown",
   "source": "Can see that Verified and Source Verified are both the same meaning so replacing all Source Verified to Verified",
   "id": "4ded44b6f4046946"
  },
  {
   "metadata": {
    "ExecuteTime": {
     "end_time": "2025-01-20T23:52:05.599369Z",
     "start_time": "2025-01-20T23:52:05.590512Z"
    }
   },
   "cell_type": "code",
   "source": [
    "loan['verification_status'].replace('Source Verified', 'Verified', inplace = True)\n",
    "get_distinct_values(loan, 'verification_status')"
   ],
   "id": "2b2dd87eac7b8d72",
   "outputs": [
    {
     "data": {
      "text/plain": [
       "['Verified', 'Not Verified']"
      ]
     },
     "execution_count": 410,
     "metadata": {},
     "output_type": "execute_result"
    }
   ],
   "execution_count": 410
  },
  {
   "metadata": {},
   "cell_type": "markdown",
   "source": "Handle data for home_ownership column",
   "id": "3287cfc3cb28ff25"
  },
  {
   "metadata": {
    "ExecuteTime": {
     "end_time": "2025-01-20T23:52:05.744591Z",
     "start_time": "2025-01-20T23:52:05.737388Z"
    }
   },
   "cell_type": "code",
   "source": "get_value_counts(loan, 'home_ownership')",
   "id": "6e7213cf0277fb25",
   "outputs": [
    {
     "data": {
      "text/plain": [
       "home_ownership\n",
       "RENT        18480\n",
       "MORTGAGE    17021\n",
       "OWN          2975\n",
       "OTHER          98\n",
       "NONE            3\n",
       "Name: count, dtype: int64"
      ]
     },
     "execution_count": 411,
     "metadata": {},
     "output_type": "execute_result"
    }
   ],
   "execution_count": 411
  },
  {
   "metadata": {},
   "cell_type": "markdown",
   "source": "NONE can be treated as OTHER",
   "id": "858bcbfc498f9db2"
  },
  {
   "metadata": {
    "ExecuteTime": {
     "end_time": "2025-01-20T23:52:06.067806Z",
     "start_time": "2025-01-20T23:52:06.062937Z"
    }
   },
   "cell_type": "code",
   "source": [
    "loan['home_ownership'].replace('NONE', 'OTHER', inplace = True)\n",
    "get_distinct_values(loan, 'home_ownership')\n"
   ],
   "id": "d634edb3b2904221",
   "outputs": [
    {
     "data": {
      "text/plain": [
       "['RENT', 'OWN', 'MORTGAGE', 'OTHER']"
      ]
     },
     "execution_count": 412,
     "metadata": {},
     "output_type": "execute_result"
    }
   ],
   "execution_count": 412
  },
  {
   "metadata": {
    "ExecuteTime": {
     "end_time": "2025-01-20T23:57:52.742228Z",
     "start_time": "2025-01-20T23:57:52.712048Z"
    }
   },
   "cell_type": "code",
   "source": "loan.isna().sum().sort_values(ascending=False)",
   "id": "47d0c230b09488f0",
   "outputs": [
    {
     "data": {
      "text/plain": [
       "emp_length              1033\n",
       "pub_rec_bankruptcies     697\n",
       "loan_amnt                  0\n",
       "loan_status                0\n",
       "issue_month                0\n",
       "delinq_2yrs                0\n",
       "dti                        0\n",
       "addr_state                 0\n",
       "purpose                    0\n",
       "verification_status        0\n",
       "term                       0\n",
       "annual_inc                 0\n",
       "home_ownership             0\n",
       "sub_grade                  0\n",
       "grade                      0\n",
       "int_rate                   0\n",
       "issue_year                 0\n",
       "dtype: int64"
      ]
     },
     "execution_count": 414,
     "metadata": {},
     "output_type": "execute_result"
    }
   ],
   "execution_count": 414
  },
  {
   "metadata": {
    "ExecuteTime": {
     "end_time": "2025-01-20T23:58:40.976337Z",
     "start_time": "2025-01-20T23:58:40.960824Z"
    }
   },
   "cell_type": "code",
   "source": "get_distinct_values(loan, 'emp_length')",
   "id": "1b93363fc374bdef",
   "outputs": [
    {
     "data": {
      "text/plain": [
       "['10+ years',\n",
       " '< 1 year',\n",
       " '3 years',\n",
       " '8 years',\n",
       " '9 years',\n",
       " '4 years',\n",
       " '5 years',\n",
       " '1 year',\n",
       " '6 years',\n",
       " '2 years',\n",
       " '7 years',\n",
       " nan]"
      ]
     },
     "execution_count": 415,
     "metadata": {},
     "output_type": "execute_result"
    }
   ],
   "execution_count": 415
  },
  {
   "metadata": {},
   "cell_type": "code",
   "outputs": [],
   "execution_count": null,
   "source": "",
   "id": "c9c47d6143a572e8"
  }
 ],
 "metadata": {
  "kernelspec": {
   "display_name": "Python [conda env:base] *",
   "language": "python",
   "name": "conda-base-py"
  },
  "language_info": {
   "codemirror_mode": {
    "name": "ipython",
    "version": 3
   },
   "file_extension": ".py",
   "mimetype": "text/x-python",
   "name": "python",
   "nbconvert_exporter": "python",
   "pygments_lexer": "ipython3",
   "version": "3.12.7"
  }
 },
 "nbformat": 4,
 "nbformat_minor": 5
}
